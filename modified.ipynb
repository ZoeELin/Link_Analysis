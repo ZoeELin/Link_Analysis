{
 "cells": [
  {
   "cell_type": "code",
   "execution_count": 7,
   "metadata": {},
   "outputs": [],
   "source": [
    "# import package\n",
    "from src.utils import output_HITS, output_PageRank, output_SimRank, init_graph\n",
    "import time"
   ]
  },
  {
   "cell_type": "code",
   "execution_count": 8,
   "metadata": {},
   "outputs": [],
   "source": [
    "# Setting\n",
    "damping_factor = 0.1\n",
    "decay_factor = 0.7\n",
    "iteration = 30\n",
    "\n",
    "# Set output file path\n",
    "result_dir = \"results\""
   ]
  },
  {
   "cell_type": "code",
   "execution_count": 41,
   "metadata": {},
   "outputs": [
    {
     "name": "stdout",
     "output_type": "stream",
     "text": [
      "1 -> ['2']\n",
      "2 -> ['1', '3']\n",
      "3 -> ['1', '2', '4']\n",
      "4 -> ['3']\n"
     ]
    }
   ],
   "source": [
    "# Input path\n",
    "file_path = \"dataset/graph_3_copy.txt\"\n",
    "\n",
    "# Get the output path name\n",
    "fname = file_path.split(\"/\")[-1].split(\".\")[0]  # 文件名前綴, e.g. graph_1\n",
    "\n",
    "# Create graph\n",
    "graph = init_graph(file_path)\n",
    "\n",
    "# Display graph\n",
    "graph.display()"
   ]
  },
  {
   "cell_type": "code",
   "execution_count": 42,
   "metadata": {},
   "outputs": [
    {
     "name": "stdout",
     "output_type": "stream",
     "text": [
      "PageRank:\n",
      "[0.265, 0.347, 0.279, 0.109]\n"
     ]
    }
   ],
   "source": [
    "output_PageRank(iteration, graph, damping_factor, result_dir, fname)"
   ]
  },
  {
   "cell_type": "code",
   "execution_count": 40,
   "metadata": {},
   "outputs": [
    {
     "name": "stdout",
     "output_type": "stream",
     "text": [
      "\n",
      "Authority:\n",
      "[0.156, 0.285, 0.462, 0.097]\n",
      "Hub:\n",
      "[0.338, 0.28, 0.173, 0.209]\n"
     ]
    }
   ],
   "source": [
    "output_HITS(iteration, graph, result_dir, fname)"
   ]
  },
  {
   "cell_type": "code",
   "execution_count": 36,
   "metadata": {},
   "outputs": [
    {
     "name": "stdout",
     "output_type": "stream",
     "text": [
      "PageRank:\n",
      "[0.172, 0.328, 0.328, 0.172]\n"
     ]
    }
   ],
   "source": []
  },
  {
   "cell_type": "code",
   "execution_count": 33,
   "metadata": {},
   "outputs": [
    {
     "name": "stdout",
     "output_type": "stream",
     "text": [
      "\n",
      "Authority:\n",
      "[0.2, 0.2, 0.2, 0.2, 0.2]\n",
      "Hub:\n",
      "[0.2, 0.2, 0.2, 0.2, 0.2]\n"
     ]
    }
   ],
   "source": [
    "# Output HITS result\n",
    "output_HITS(iteration, graph, result_dir, fname)"
   ]
  },
  {
   "cell_type": "code",
   "execution_count": 15,
   "metadata": {},
   "outputs": [
    {
     "name": "stdout",
     "output_type": "stream",
     "text": [
      "PageRank:\n",
      "[0.167, 0.167, 0.167, 0.167, 0.167, 0.167]\n",
      "\n",
      "Run time: 0.002559185028076172 s\n"
     ]
    }
   ],
   "source": [
    "# Output PageRank result\n",
    "start_time = time.time()\n",
    "output_PageRank(iteration, graph, damping_factor, result_dir, fname)\n",
    "end_time = time.time()\n",
    "execution_time = end_time - start_time\n",
    "print()\n",
    "print(f\"Run time: {execution_time} s\")"
   ]
  },
  {
   "cell_type": "code",
   "execution_count": 6,
   "metadata": {},
   "outputs": [
    {
     "name": "stdout",
     "output_type": "stream",
     "text": [
      "SimRank:\n",
      "[\n",
      "[1, 0.03172035822427377, 0.016367047149058317, 0.0006115210649437972, 0.0020692854212325928, 0.045314857993703134]\n",
      "[0.03172035822427377, 1, 0.36110210226686756, 0.011456855965580064, 0.00042794918731951895, 0.0014484034964118658]\n",
      "[0.016367047149058317, 0.36110210226686756, 1, 0.1321141252568133, 0.004223758623471642, 0.0008738491459364359]\n",
      "[0.0006115210649437972, 0.011456855965580064, 0.1321141252568133, 1, 0.0924796950828674, 0.002956342141077301]\n",
      "[0.0020692854212325928, 0.00042794918731951895, 0.004223758623471642, 0.0924796950828674, 1, 0.06473559396110529]\n",
      "[0.045314857993703134, 0.0014484034964118658, 0.0008738491459364359, 0.002956342141077301, 0.06473559396110529, 1]\n",
      "]\n",
      "\n",
      "Run time: 0.0018849372863769531 s\n"
     ]
    }
   ],
   "source": [
    "# Output SimRank result\n",
    "start_time = time.time()\n",
    "output_SimRank(iteration, graph, decay_factor, result_dir, fname)\n",
    "end_time = time.time()\n",
    "execution_time = end_time - start_time\n",
    "print()\n",
    "print(f\"Run time: {execution_time} s\")"
   ]
  },
  {
   "cell_type": "code",
   "execution_count": null,
   "metadata": {},
   "outputs": [],
   "source": []
  }
 ],
 "metadata": {
  "kernelspec": {
   "display_name": "link_venv",
   "language": "python",
   "name": "python3"
  },
  "language_info": {
   "codemirror_mode": {
    "name": "ipython",
    "version": 3
   },
   "file_extension": ".py",
   "mimetype": "text/x-python",
   "name": "python",
   "nbconvert_exporter": "python",
   "pygments_lexer": "ipython3",
   "version": "3.12.0"
  }
 },
 "nbformat": 4,
 "nbformat_minor": 2
}
